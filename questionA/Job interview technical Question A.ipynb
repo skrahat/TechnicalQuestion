{
 "cells": [
  {
   "cell_type": "markdown",
   "id": "c57360b4",
   "metadata": {},
   "source": [
    "## Question A\n",
    "Write code that can detech if two line on x axis overlaps.\n",
    "\n",
    "Code Details:\n",
    "        Can detect if two lines overlap,\n",
    "        line values are to be placed from smaller to larger,\n",
    "        can handle negative values,\n",
    "        line only sharing one single start or end point is not considered as overlap,\n",
    "        No external library is required since simple task,\n",
    "Time Required to complete: <1hr"
   ]
  },
  {
   "cell_type": "code",
   "execution_count": 88,
   "id": "5e4f020e",
   "metadata": {},
   "outputs": [],
   "source": [
    "def checkOverLapse(x1,x2,x3,x4):\n",
    "    #simple if check if lines ends inside one another (avoids using larger function)\n",
    "    if (x1 < x3 < x2 or x1 < x4 < x2):\n",
    "        print(\" 2 lines overlap\")\n",
    "    else:\n",
    "        print('does not exist inbetween, rechecking or cross-over')  \n",
    "        if(x1 - x2) < (x3-x4):\n",
    "            recheck(x1,x2,x3,x4)\n",
    "        else:\n",
    "            recheck(x3,x4,x1,x2)"
   ]
  },
  {
   "cell_type": "code",
   "execution_count": 89,
   "id": "9b951719",
   "metadata": {},
   "outputs": [],
   "source": [
    "#main function to check if they overlap\n",
    "def recheck(a,b,start,end):\n",
    "    overlap=False\n",
    "    for num in range(a,b):\n",
    "        \n",
    "        if num in range(start, end):\n",
    "                print('overlap at:',num)\n",
    "                overlap=True\n",
    "        else:\n",
    "                print('does not overlap at:',num)\n",
    "        \n",
    "    if overlap==True:\n",
    "            print(\" 2 lines overlap\")\n",
    "    else: \n",
    "            print(\" 2 lines does not overlap\")\n"
   ]
  },
  {
   "cell_type": "markdown",
   "id": "3cd88911",
   "metadata": {},
   "source": [
    "## Check Code from here\n",
    "### Please enter line values from small to larger\n",
    "\n"
   ]
  },
  {
   "cell_type": "code",
   "execution_count": 90,
   "id": "ed491f46",
   "metadata": {},
   "outputs": [
    {
     "name": "stdout",
     "output_type": "stream",
     "text": [
      " 2 lines overlap\n"
     ]
    }
   ],
   "source": [
    "checkOverLapse(-10,90,1,6)"
   ]
  },
  {
   "cell_type": "markdown",
   "id": "a6beb740",
   "metadata": {},
   "source": [
    "## Test cases with different values below\n"
   ]
  },
  {
   "cell_type": "code",
   "execution_count": 91,
   "id": "b178c44f",
   "metadata": {},
   "outputs": [
    {
     "name": "stdout",
     "output_type": "stream",
     "text": [
      " 2 lines overlap\n"
     ]
    }
   ],
   "source": [
    "checkOverLapse(1,5,2,6)"
   ]
  },
  {
   "cell_type": "code",
   "execution_count": 92,
   "id": "25408b5b",
   "metadata": {},
   "outputs": [
    {
     "name": "stdout",
     "output_type": "stream",
     "text": [
      "does not exist inbetween, rechecking or cross-over\n",
      "does not overlap at: 1\n",
      "does not overlap at: 2\n",
      "does not overlap at: 3\n",
      "does not overlap at: 4\n",
      " 2 lines does not overlap\n"
     ]
    }
   ],
   "source": [
    "checkOverLapse(1,5,6,8)"
   ]
  },
  {
   "cell_type": "code",
   "execution_count": 93,
   "id": "f6fae8d0",
   "metadata": {},
   "outputs": [
    {
     "name": "stdout",
     "output_type": "stream",
     "text": [
      "does not exist inbetween, rechecking or cross-over\n",
      "does not overlap at: 1\n",
      "does not overlap at: 2\n",
      "does not overlap at: 3\n",
      "does not overlap at: 4\n",
      " 2 lines does not overlap\n"
     ]
    }
   ],
   "source": [
    "checkOverLapse(1,5,5,8)"
   ]
  },
  {
   "cell_type": "code",
   "execution_count": 94,
   "id": "ab5d5aad",
   "metadata": {},
   "outputs": [
    {
     "name": "stdout",
     "output_type": "stream",
     "text": [
      "does not exist inbetween, rechecking or cross-over\n",
      "does not overlap at: -10\n",
      "does not overlap at: -9\n",
      "does not overlap at: -8\n",
      "does not overlap at: -7\n",
      "does not overlap at: -6\n",
      "does not overlap at: -5\n",
      "does not overlap at: -4\n",
      "does not overlap at: -3\n",
      "does not overlap at: -2\n",
      "does not overlap at: -1\n",
      " 2 lines does not overlap\n"
     ]
    }
   ],
   "source": [
    "checkOverLapse(-10,0,2,6)\n"
   ]
  },
  {
   "cell_type": "code",
   "execution_count": 95,
   "id": "ee5c0deb",
   "metadata": {},
   "outputs": [
    {
     "name": "stdout",
     "output_type": "stream",
     "text": [
      "does not exist inbetween, rechecking or cross-over\n",
      "does not overlap at: -10\n",
      "does not overlap at: -9\n",
      "does not overlap at: -8\n",
      "does not overlap at: -7\n",
      "does not overlap at: -6\n",
      " 2 lines does not overlap\n"
     ]
    }
   ],
   "source": [
    "checkOverLapse(-10,-5,-2,1)"
   ]
  },
  {
   "cell_type": "code",
   "execution_count": 96,
   "id": "1b3c1ec5",
   "metadata": {},
   "outputs": [
    {
     "name": "stdout",
     "output_type": "stream",
     "text": [
      " 2 lines overlap\n"
     ]
    }
   ],
   "source": [
    "checkOverLapse(-10,-5,-6,1)"
   ]
  },
  {
   "cell_type": "code",
   "execution_count": null,
   "id": "3c1fcea7",
   "metadata": {},
   "outputs": [],
   "source": []
  }
 ],
 "metadata": {
  "kernelspec": {
   "display_name": "Python 3",
   "language": "python",
   "name": "python3"
  },
  "language_info": {
   "codemirror_mode": {
    "name": "ipython",
    "version": 3
   },
   "file_extension": ".py",
   "mimetype": "text/x-python",
   "name": "python",
   "nbconvert_exporter": "python",
   "pygments_lexer": "ipython3",
   "version": "3.9.2"
  }
 },
 "nbformat": 4,
 "nbformat_minor": 5
}
